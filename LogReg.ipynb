{
 "cells": [
  {
   "cell_type": "code",
   "execution_count": 1,
   "metadata": {
    "scrolled": true
   },
   "outputs": [],
   "source": [
    "import pandas as pd\n",
    "import numpy as np\n",
    "from sklearn.model_selection import cross_val_score\n",
    "from sklearn.model_selection import KFold\n",
    "from sklearn.linear_model import LogisticRegression\n",
    "import time\n",
    "import datetime\n",
    "from sklearn.preprocessing import StandardScaler\n",
    "from sklearn.model_selection import GridSearchCV\n"
   ]
  },
  {
   "cell_type": "code",
   "execution_count": 2,
   "metadata": {},
   "outputs": [],
   "source": [
    "data_train = pd.read_csv('features.csv', index_col='match_id')\n",
    "X_test = pd.read_csv('features_test.csv', index_col='match_id')\n",
    "\n",
    "y = data_train['radiant_win']\n",
    "X_train = data_train.drop(['duration', 'radiant_win', 'tower_status_radiant', 'tower_status_dire', 'barracks_status_radiant', 'barracks_status_dire'], axis=1)\n",
    "X_train = X_train.fillna(-1)\n",
    "X_test = X_test.fillna(-1)"
   ]
  },
  {
   "cell_type": "code",
   "execution_count": 3,
   "metadata": {
    "scrolled": true
   },
   "outputs": [
    {
     "data": {
      "text/plain": [
       "{'C': 0.01, 'penalty': 'l2'}"
      ]
     },
     "execution_count": 3,
     "metadata": {},
     "output_type": "execute_result"
    }
   ],
   "source": [
    "scaler = StandardScaler()\n",
    "X_train_scaled = scaler.fit_transform(X_train)\n",
    "\n",
    "kf = KFold(n_splits=5, shuffle=True)\n",
    "kf.get_n_splits(X_train_scaled)\n",
    "\n",
    "c_values = [0.00001, 0.0001, 0.001, 0.01, 0.1, 1, 10, 100, 1000]\n",
    "param_grid ={'C': c_values, 'penalty': ['l2']}\n",
    "#посик параметра С\n",
    "grid = GridSearchCV(LogisticRegression(), param_grid, cv=kf, scoring='roc_auc')\n",
    "grid.fit(X_train_scaled, y)\n",
    "grid.best_params_"
   ]
  },
  {
   "cell_type": "code",
   "execution_count": 4,
   "metadata": {
    "scrolled": true
   },
   "outputs": [
    {
     "name": "stdout",
     "output_type": "stream",
     "text": [
      "Time elapsed: 0:00:05.544018 CVS: 0.6964629693180401\n"
     ]
    }
   ],
   "source": [
    "start_time = datetime.datetime.now()\n",
    "lr = LogisticRegression(penalty='l2', C=0.00001)\n",
    "lr.fit(X_train_scaled, y)\n",
    "time.sleep(3)\n",
    "\n",
    "cvs = cross_val_score(lr, X_train_scaled, y, scoring='roc_auc', cv=5)\n",
    "print('Time elapsed:', datetime.datetime.now() - start_time, 'CVS:', cvs.mean())"
   ]
  },
  {
   "cell_type": "code",
   "execution_count": 5,
   "metadata": {},
   "outputs": [
    {
     "data": {
      "text/plain": [
       "{'C': 0.01, 'penalty': 'l2'}"
      ]
     },
     "execution_count": 5,
     "metadata": {},
     "output_type": "execute_result"
    }
   ],
   "source": [
    "X_train2 = X_train.drop(['r1_hero', 'r2_hero', 'r3_hero', 'r4_hero', 'r5_hero', 'd1_hero', 'd2_hero', 'd3_hero', 'd4_hero', 'd5_hero', 'lobby_type'], axis=1)\n",
    "X_train_scaled2 = scaler.fit_transform(X_train2)\n",
    "grid.fit(X_train_scaled2, y)\n",
    "grid.best_params_"
   ]
  },
  {
   "cell_type": "code",
   "execution_count": 6,
   "metadata": {},
   "outputs": [
    {
     "name": "stdout",
     "output_type": "stream",
     "text": [
      "Time elapsed: 0:00:10.423168 CVS: 0.7152974588862767\n"
     ]
    }
   ],
   "source": [
    "start_time = datetime.datetime.now()\n",
    "lr2 = LogisticRegression(penalty='l2', C=0.01)\n",
    "lr2.fit(X_train_scaled2, y)\n",
    "time.sleep(3)\n",
    "\n",
    "cvs = cross_val_score(lr2, X_train_scaled2, y, scoring='roc_auc', cv=5)\n",
    "print('Time elapsed:', datetime.datetime.now() - start_time, 'CVS:', cvs.mean())"
   ]
  },
  {
   "cell_type": "code",
   "execution_count": 7,
   "metadata": {},
   "outputs": [
    {
     "data": {
      "text/plain": [
       "108"
      ]
     },
     "execution_count": 7,
     "metadata": {},
     "output_type": "execute_result"
    }
   ],
   "source": [
    "#число героев\n",
    "len(data_train.iloc[:, 2].unique())"
   ]
  },
  {
   "cell_type": "code",
   "execution_count": 8,
   "metadata": {},
   "outputs": [],
   "source": [
    "hero_c = [c for c in X_train.columns if 'hero' in c]\n",
    "all_heroes_id = np.unique(X_train[hero_c])\n",
    "wb = {}\n",
    "for id in all_heroes_id:\n",
    "    # Мы используем + 0 для автоматического приведения bool-->int.\n",
    "    r = [(X_train['r%d_hero' % n] == id) + 0 for n in range(1, 6)]\n",
    "    d = [(X_train['d%d_hero' % n] == id) + 0 for n in range(1, 6)]\n",
    "    wb['hero%s' % id] = sum(r) - sum(d)\n",
    "X_pick = X_train.assign(**wb)\n"
   ]
  },
  {
   "cell_type": "code",
   "execution_count": 9,
   "metadata": {},
   "outputs": [
    {
     "data": {
      "text/plain": [
       "{'C': 0.01, 'penalty': 'l2'}"
      ]
     },
     "execution_count": 9,
     "metadata": {},
     "output_type": "execute_result"
    }
   ],
   "source": [
    "kf.get_n_splits(X_pick)\n",
    "X_pick_scaled = scaler.fit_transform(X_pick)\n",
    "\n",
    "c_values = [0.00001, 0.0001, 0.001, 0.01, 0.1, 1, 10, 100, 1000]\n",
    "param_grid ={'C': c_values, 'penalty': ['l2']}\n",
    "\n",
    "grid = GridSearchCV(LogisticRegression(), param_grid, cv=kf, scoring='roc_auc')\n",
    "grid.fit(X_pick_scaled, y)\n",
    "grid.best_params_"
   ]
  },
  {
   "cell_type": "code",
   "execution_count": 10,
   "metadata": {},
   "outputs": [
    {
     "name": "stdout",
     "output_type": "stream",
     "text": [
      "Time elapsed: 0:00:15.652704 CVS: 0.7495848514779525\n"
     ]
    }
   ],
   "source": [
    "start_time = datetime.datetime.now()\n",
    "lr3 = LogisticRegression(penalty='l2', C=0.01)\n",
    "lr3.fit(X_pick_scaled, y)\n",
    "time.sleep(3)\n",
    "\n",
    "cvs = cross_val_score(lr3, X_pick_scaled, y, scoring='roc_auc', cv=5)\n",
    "print('Time elapsed:', datetime.datetime.now() - start_time, 'CVS:', cvs.mean())"
   ]
  },
  {
   "cell_type": "code",
   "execution_count": 28,
   "metadata": {},
   "outputs": [],
   "source": [
    "hero_c2 = [c for c in X_test.columns if 'hero' in c]\n",
    "all_heroes_id = np.unique(X_test[hero_c2])\n",
    "wb1 = {}\n",
    "for id in all_heroes_id:\n",
    "    # Мы используем + 0 для автоматического приведения bool-->int.\n",
    "    r = [(X_test['r%d_hero' % n] == id) + 0 for n in range(1, 6)]\n",
    "    d = [(X_test['d%d_hero' % n] == id) + 0 for n in range(1, 6)]\n",
    "    wb['hero%s' % id] = sum(r) - sum(d)\n",
    "X_pick2 = X_test.assign(**wb1)"
   ]
  },
  {
   "cell_type": "code",
   "execution_count": 30,
   "metadata": {
    "scrolled": true
   },
   "outputs": [],
   "source": [
    "X_pick_scaled2 = scaler.transform(X_pick2)"
   ]
  },
  {
   "cell_type": "code",
   "execution_count": 31,
   "metadata": {},
   "outputs": [
    {
     "name": "stdout",
     "output_type": "stream",
     "text": [
      "[[0.50765566 0.49234434]\n",
      " [0.44558767 0.55441233]\n",
      " [0.5418276  0.4581724 ]\n",
      " ...\n",
      " [0.59701059 0.40298941]\n",
      " [0.54242705 0.45757295]\n",
      " [0.44860603 0.55139397]]\n",
      "Dire: min = 0.19783233192578142, max = 0.8273952326875847, Unique values = 17177\n",
      "Radiant: min = 0.19783233192578142, max = 0.8273952326875847, Unique values = 17177\n"
     ]
    }
   ],
   "source": [
    "proba = lr.predict_proba(X_pick_scaled2)\n",
    "print(proba)\n",
    "\n",
    "dire_proba = proba[:, 0]\n",
    "rad_proba = proba[:, 1]\n",
    "\n",
    "print(f\"Dire: min = {np.min(dire_proba)}, max = {np.max(dire_proba)}, Unique values = {np.unique(dire_proba).size}\")\n",
    "print(f\"Radiant: min = {np.min(dire_proba)}, max = {np.max(dire_proba)}, Unique values = {np.unique(dire_proba).size}\")"
   ]
  },
  {
   "cell_type": "code",
   "execution_count": null,
   "metadata": {},
   "outputs": [],
   "source": []
  }
 ],
 "metadata": {
  "kernelspec": {
   "display_name": "Python 3",
   "language": "python",
   "name": "python3"
  },
  "language_info": {
   "codemirror_mode": {
    "name": "ipython",
    "version": 3
   },
   "file_extension": ".py",
   "mimetype": "text/x-python",
   "name": "python",
   "nbconvert_exporter": "python",
   "pygments_lexer": "ipython3",
   "version": "3.6.5"
  }
 },
 "nbformat": 4,
 "nbformat_minor": 4
}
