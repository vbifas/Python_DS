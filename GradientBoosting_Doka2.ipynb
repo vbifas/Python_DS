{
 "cells": [
  {
   "cell_type": "code",
   "execution_count": 1,
   "metadata": {},
   "outputs": [],
   "source": [
    "import bz2\n",
    "import json\n",
    "import pandas\n",
    "import collections\n",
    "import argparse\n",
    "from sklearn.model_selection import KFold\n",
    "from sklearn.ensemble import GradientBoostingClassifier\n",
    "import time\n",
    "import datetime\n",
    "import numpy as np\n",
    "from sklearn.model_selection import cross_val_score\n"
   ]
  },
  {
   "cell_type": "code",
   "execution_count": 13,
   "metadata": {
    "scrolled": true
   },
   "outputs": [
    {
     "data": {
      "text/plain": [
       "first_blood_player2            53243\n",
       "radiant_flying_courier_time    69751\n",
       "dire_flying_courier_time       71132\n",
       "first_blood_time               77677\n",
       "first_blood_team               77677\n",
       "first_blood_player1            77677\n",
       "dire_bottle_time               81087\n",
       "radiant_bottle_time            81539\n",
       "radiant_first_ward_time        95394\n",
       "dire_first_ward_time           95404\n",
       "radiant_courier_time           96538\n",
       "dire_courier_time              96554\n",
       "d2_items                       97230\n",
       "d4_level                       97230\n",
       "dtype: int64"
      ]
     },
     "execution_count": 13,
     "metadata": {},
     "output_type": "execute_result"
    }
   ],
   "source": [
    "data_train = pandas.read_csv('features.csv')\n",
    "\n",
    "y = data_train['radiant_win']\n",
    "X = data_train.drop(['duration', 'radiant_win', 'tower_status_radiant', 'tower_status_dire', 'barracks_status_radiant', 'barracks_status_dire'], axis=1)\n",
    "\n",
    "X.count().sort_values().head(12)"
   ]
  },
  {
   "cell_type": "code",
   "execution_count": 3,
   "metadata": {},
   "outputs": [],
   "source": [
    "X = X.fillna(0)"
   ]
  },
  {
   "cell_type": "code",
   "execution_count": 4,
   "metadata": {},
   "outputs": [],
   "source": [
    "kf = KFold(n_splits=5, shuffle=True, cv=cv)"
   ]
  },
  {
   "cell_type": "code",
   "execution_count": 5,
   "metadata": {},
   "outputs": [
    {
     "data": {
      "text/plain": [
       "5"
      ]
     },
     "execution_count": 5,
     "metadata": {},
     "output_type": "execute_result"
    }
   ],
   "source": [
    "kf.get_n_splits(X)"
   ]
  },
  {
   "cell_type": "code",
   "execution_count": 7,
   "metadata": {},
   "outputs": [
    {
     "name": "stdout",
     "output_type": "stream",
     "text": [
      "1 .   0.5854183447261792\n",
      "2 .   0.5764288044323448\n",
      "3 .   0.5842378256318624\n",
      "4 .   0.5914229055005794\n",
      "5 .   0.5953559564361537\n",
      "6 .   0.6052245231102796\n",
      "7 .   0.6140286047129574\n",
      "8 .   0.6222694597984295\n",
      "9 .   0.6284551373034902\n",
      "10 .   0.6354954695866504\n",
      "11 .   0.6380988132539379\n",
      "12 .   0.6415685942578593\n",
      "13 .   0.6390161017044108\n",
      "14 .   0.6432302760725004\n",
      "15 .   0.6433403087271451\n",
      "16 .   0.643555610102459\n",
      "17 .   0.6468102805201902\n",
      "18 .   0.6444938601343206\n",
      "19 .   0.6441937074471985\n",
      "20 .   0.6468995330573044\n",
      "21 .   0.6499669006304465\n",
      "22 .   0.6492993103308724\n",
      "23 .   0.6481194320440522\n",
      "24 .   0.6503377899173926\n",
      "25 .   0.6520646226694774\n",
      "26 .   0.652277663356887\n",
      "27 .   0.6544772528465893\n",
      "28 .   0.6563870657237149\n",
      "29 .   0.6580045857014755\n",
      "30 .   0.6589119331565441\n",
      "31 .   0.6590186567079509\n",
      "32 .   0.6591668414081323\n",
      "33 .   0.6607208065305171\n",
      "34 .   0.6624331633973414\n"
     ]
    }
   ],
   "source": [
    "#Проверка роста качества при увеличении числа n_estimators\n",
    "for i in range(1,35):\n",
    "    clf = GradientBoostingClassifier(n_estimators=i)\n",
    "    clf.fit(X, y)\n",
    "    cvs = cross_val_score(clf, X, y, scoring='roc_auc')\n",
    "    print(i, '.  ', np.mean(cvs))"
   ]
  },
  {
   "cell_type": "code",
   "execution_count": 11,
   "metadata": {},
   "outputs": [
    {
     "name": "stdout",
     "output_type": "stream",
     "text": [
      "10 .   0.6354975785214922\n",
      "Time elapsed: 0:00:52.522945\n",
      "20 .   0.6468996898239325\n",
      "Time elapsed: 0:01:43.937539\n",
      "30 .   0.6589119395119479\n",
      "Time elapsed: 0:02:34.989308\n"
     ]
    }
   ],
   "source": [
    "for j in [10, 20, 30]:\n",
    "    start_time = datetime.datetime.now()\n",
    "    clf = GradientBoostingClassifier(n_estimators=j)\n",
    "    clf.fit(X, y)\n",
    "    cvs = cross_val_score(clf, X, y, scoring='roc_auc')\n",
    "    #Мера качества -- среднее по всем разиениям Х.\n",
    "    print(j, '.  ', np.mean(cvs))\n",
    "    print ('Time elapsed:', datetime.datetime.now() - start_time)"
   ]
  },
  {
   "cell_type": "code",
   "execution_count": null,
   "metadata": {},
   "outputs": [],
   "source": []
  }
 ],
 "metadata": {
  "kernelspec": {
   "display_name": "Python 3",
   "language": "python",
   "name": "python3"
  },
  "language_info": {
   "codemirror_mode": {
    "name": "ipython",
    "version": 3
   },
   "file_extension": ".py",
   "mimetype": "text/x-python",
   "name": "python",
   "nbconvert_exporter": "python",
   "pygments_lexer": "ipython3",
   "version": "3.8.2"
  }
 },
 "nbformat": 4,
 "nbformat_minor": 4
}
